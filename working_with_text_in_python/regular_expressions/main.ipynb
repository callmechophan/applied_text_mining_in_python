{
 "cells": [
  {
   "cell_type": "markdown",
   "metadata": {},
   "source": [
    "processing free-text"
   ]
  },
  {
   "cell_type": "code",
   "execution_count": null,
   "metadata": {},
   "outputs": [],
   "source": [
    "text1 = '\"Ethics are built right into the ideals and objectives of the United Nations\" \\\n",
    "#UNSG @ NY Society for Ethical Culture bit.ly/2guVelr @UN @UN_Women'\n",
    "text2 = text1.split(' ')\n",
    "\n",
    "text2"
   ]
  },
  {
   "cell_type": "markdown",
   "metadata": {},
   "source": [
    "finding specific words"
   ]
  },
  {
   "cell_type": "code",
   "execution_count": null,
   "metadata": {},
   "outputs": [],
   "source": [
    "# find all hashtags\n",
    "[w for w in text2 if w.startswith(\"#\")]"
   ]
  },
  {
   "cell_type": "code",
   "execution_count": null,
   "metadata": {},
   "outputs": [],
   "source": [
    "# find all callouts\n",
    "[w for w in text2 if w.startswith(\"@\")]"
   ]
  },
  {
   "cell_type": "markdown",
   "metadata": {},
   "source": [
    "finding patterns with regular expressions"
   ]
  },
  {
   "cell_type": "code",
   "execution_count": null,
   "metadata": {},
   "outputs": [],
   "source": [
    "import re"
   ]
  },
  {
   "cell_type": "markdown",
   "metadata": {},
   "source": [
    "for example `@[A-Za-z0-9_]+`\n",
    "- start with `@`\n",
    "- followed by any alphabet (upper or lower case), digit, or underscore `A-Za-z0-9_`\n",
    "- that repeats at least once, but any number of times `[]+`"
   ]
  },
  {
   "cell_type": "code",
   "execution_count": null,
   "metadata": {},
   "outputs": [],
   "source": [
    "[w for w in text2 if re.search('@[A-Za-z0-9_]+', w)]"
   ]
  },
  {
   "cell_type": "markdown",
   "metadata": {},
   "source": [
    "meta-characters: character matches\n",
    "- `.` wildcard, matches a single character\n",
    "- `^` start of a string\n",
    "- `$` end of a string\n",
    "- `[]` matches one of set of chracters within []\n",
    "- `[a-z]` matches one of the range of characters a, b, ..., z\n",
    "- `[^abc]` matches a character this is not a, b, or c\n",
    "- `a|b` matches either a or b, where a and b are strings\n",
    "- `()` scoping for operators "
   ]
  },
  {
   "cell_type": "markdown",
   "metadata": {},
   "source": [
    "meta-characters: character symbols\n",
    "- `\\b` matches word boundary\n",
    "- `\\d` any digit equivalent to [0-9]\n",
    "- `\\D` any non-digit equivalent to [^0-9]\n",
    "- `\\s` any whitespace, equivalent to [ \\t\\n\\r\\f\\v]\n",
    "- `\\S` any non-whitespace, equivalent to [^ \\t\\n\\r\\f\\v]\n",
    "- `\\w` alphanumeric character, equivalent to [a-zA-Z0-9_]\n",
    "- `\\W` non-alphanumeric character, equivalent to [^a-zA-Z0-9_]"
   ]
  },
  {
   "cell_type": "markdown",
   "metadata": {},
   "source": [
    "meta-characters: repetitions\n",
    "- `?` matches zero or one occurrences\n",
    "- `*` matches zero or more occurrences\n",
    "- `+` matches one or more occurrences\n",
    "- `{n}` exactly n repetitions, n >= 0\n",
    "- `{n,}` at least n repetitions\n",
    "- `{,n}` at most n repetitions\n",
    "- `{m,n}` at least m and most n repetitions"
   ]
  },
  {
   "cell_type": "code",
   "execution_count": null,
   "metadata": {},
   "outputs": [],
   "source": [
    "[w for w in text2 if re.search('@[A-Za-z0-9_]+', w)]"
   ]
  },
  {
   "cell_type": "code",
   "execution_count": null,
   "metadata": {},
   "outputs": [],
   "source": [
    "[w for w in text2 if re.search(r\"@\\w+\", w)]"
   ]
  },
  {
   "cell_type": "code",
   "execution_count": null,
   "metadata": {},
   "outputs": [],
   "source": [
    "text3 = \"ouagadougou\"\n",
    "re.findall(r\"[aeiou]\", text3)"
   ]
  },
  {
   "cell_type": "code",
   "execution_count": null,
   "metadata": {},
   "outputs": [],
   "source": [
    "re.findall(r\"[^aeiou]\", text3)"
   ]
  },
  {
   "cell_type": "markdown",
   "metadata": {},
   "source": [
    "regular expression for dates"
   ]
  },
  {
   "cell_type": "code",
   "execution_count": null,
   "metadata": {},
   "outputs": [],
   "source": [
    "date_str = \"23-10-2002\\n23/10/2002\\n23/10/02\\n10/23/2002\\n23 Oct 2022\\n23 October 2002\\nOct 23, 2002\\nOctober 23, 2002\\n\""
   ]
  },
  {
   "cell_type": "code",
   "execution_count": null,
   "metadata": {},
   "outputs": [],
   "source": [
    "re.findall(r\"\\d{2}[-/]\\d{2}[-/]\\d{4}\", date_str)"
   ]
  },
  {
   "cell_type": "code",
   "execution_count": null,
   "metadata": {},
   "outputs": [],
   "source": [
    "re.findall(r\"\\d{2}[-/]\\d{2}[-/]\\d{4}\", date_str)"
   ]
  },
  {
   "cell_type": "code",
   "execution_count": null,
   "metadata": {},
   "outputs": [],
   "source": [
    "re.findall(r\"\\d{2}[-/]\\d{2}[-/]\\d{2,4}\", date_str)"
   ]
  },
  {
   "cell_type": "code",
   "execution_count": null,
   "metadata": {},
   "outputs": [],
   "source": [
    "re.findall(r\"\\d{1,2}[-/]\\d{1,2}[-/]\\d{2,4}\", date_str)"
   ]
  },
  {
   "cell_type": "code",
   "execution_count": null,
   "metadata": {},
   "outputs": [],
   "source": [
    "re.findall(r\"\\d{1,2} (?:Jan|Feb|Mar|Apr|May|Jun|Jul|Aug|Sep|Oct|Nov|Dec) \\d{2,4}\", date_str)"
   ]
  },
  {
   "cell_type": "code",
   "execution_count": null,
   "metadata": {},
   "outputs": [],
   "source": [
    "re.findall(r\"\\d{1,2} (?:Jan|Feb|Mar|Apr|May|Jun|Jul|Aug|Sep|Oct|Nov|Dec)[a-z]* \\d{2,4}\", date_str)"
   ]
  },
  {
   "cell_type": "code",
   "execution_count": null,
   "metadata": {},
   "outputs": [],
   "source": [
    "date_str.split('\\n')"
   ]
  },
  {
   "cell_type": "code",
   "execution_count": null,
   "metadata": {},
   "outputs": [],
   "source": [
    "re.findall(r\"(?:\\d{1,2} )?(?:Jan|Feb|Mar|Apr|May|Jun|Jul|Aug|Sep|Oct|Nov|Dec)[a-z]* (?:\\d{1,2}, )?\\d{2,4}\", date_str)"
   ]
  }
 ],
 "metadata": {
  "kernelspec": {
   "display_name": "Python 3",
   "language": "python",
   "name": "python3"
  },
  "language_info": {
   "codemirror_mode": {
    "name": "ipython",
    "version": 3
   },
   "file_extension": ".py",
   "mimetype": "text/x-python",
   "name": "python",
   "nbconvert_exporter": "python",
   "pygments_lexer": "ipython3",
   "version": "3.10.10"
  }
 },
 "nbformat": 4,
 "nbformat_minor": 2
}
