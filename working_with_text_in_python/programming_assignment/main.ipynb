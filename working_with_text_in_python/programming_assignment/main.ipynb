{
 "cells": [
  {
   "cell_type": "markdown",
   "metadata": {},
   "source": [
    "original\n",
    "\n",
    "    0    1999\n",
    "    1    2010\n",
    "    2    1978\n",
    "    3    2015\n",
    "    4    1985\n",
    "\n",
    "should return\n",
    "\n",
    "    0    2\n",
    "    1    4\n",
    "    2    0\n",
    "    3    1\n",
    "    4    3"
   ]
  },
  {
   "cell_type": "code",
   "execution_count": null,
   "metadata": {},
   "outputs": [],
   "source": [
    "import pandas as pd"
   ]
  },
  {
   "cell_type": "code",
   "execution_count": null,
   "metadata": {},
   "outputs": [],
   "source": [
    "with open(\"dates.txt\", \"r\") as f:\n",
    "    text = f.readlines()"
   ]
  },
  {
   "cell_type": "code",
   "execution_count": null,
   "metadata": {},
   "outputs": [],
   "source": [
    "raw_data = pd.Series(text)\n",
    "raw_data"
   ]
  },
  {
   "cell_type": "code",
   "execution_count": null,
   "metadata": {},
   "outputs": [],
   "source": [
    "patterns = \\\n",
    "    {\n",
    "        \"month_day_year\": r\"(?P<month_day_year>\\d{1,2}[/-]\\d{1,2}[/-]\\d{2,4})\", # 04/20/2009 | 04/20/09 | 4/20/09 | 4/3/09\n",
    "        \"day_month_name_year\": r\"(?P<day_month_name_year>\\d{1,2} (?:Jan|Feb|Mar|Apr|May|Jun|Jul|Aug|Sep|Oct|Nov|Dec)[a-z]*[,\\. ]+\\d{2,4})\", # 20 Mar 2009 | 20 March 2009 | 20 Mar. 2009 | 20 March, 2009\n",
    "        \"month_name_day_year\": r\"(?P<month_name_day_year>(?:Jan|Feb|Mar|Apr|May|Jun|Jul|Aug|Sep|Oct|Nov|Dec)[a-z]*[-,\\. ]+\\d{1,2}[-,\\. th]+\\d{2,4})\", # Mar-20-2009 | Mar 20, 2009 | March 20, 2009 | Mar. 20, 2009 | Mar 20 2009\n",
    "        \"month_name_year\": r\"(?P<month_name_year>(?:Jan|Feb|Mar|Apr|May|Jun|Jul|Aug|Sep|Oct|Nov|Dec)[a-z]*[, ]+\\d{2,4})\", # Feb 2009 | Sep 2009 | Oct 2010\n",
    "        \"month_year\": r\"(?P<month_year>\\d{1,2}[/][1|2]\\d{3})\", # 6/2008 | 12/2009\n",
    "        \"year\": r\"(?P<year>[1|2]\\d{3})\" # 2009 | 2010\n",
    "    }\n",
    "\n",
    "def date_sorter():\n",
    "    extract_data = raw_data.copy()\n",
    "\n",
    "    # hash\n",
    "    pattern = r'(?P<original>%s|%s|%s|%s|%s|%s)' % (patterns[\"month_day_year\"], patterns[\"day_month_name_year\"], patterns[\"month_name_day_year\"], patterns[\"month_name_year\"], patterns[\"month_year\"], patterns[\"year\"])\n",
    "    extract_data = extract_data.str.extract(pattern, expand=True)\n",
    "\n",
    "    # fill nan\n",
    "    extract_data.fillna(\"\", inplace=True)\n",
    "\n",
    "    # convert type all columns to str\n",
    "    extract_data = extract_data.astype(str)\n",
    "\n",
    "    # 03/25/93 - 03/25/1993\n",
    "    # [:-2] = 03/25/\n",
    "    # [-2:] = 93\n",
    "    # [:-2] + '19' + [-2:] = 03/25/1993\n",
    "    extract_data[\"month_day_year\"] = extract_data[\"month_day_year\"].apply(lambda x: x[:-2] + '19' + x[-2:] if x[-3:-2] in (\"/\", \"-\") else x)\n",
    "\n",
    "    # September 1985 - Sep 1985\n",
    "    # [:3] = Sep\n",
    "    # [-4:] = 1985\n",
    "    # [:3] + ' ' + [-4:] = Sep 1985\n",
    "    extract_data[\"month_name_year\"] = extract_data[\"month_name_year\"].apply(lambda x: x[:3] + ' ' + x[-4:] if x != '' else x)\n",
    "\n",
    "    # concat many to one column\n",
    "    extract_data[\"date\"] = extract_data[\"month_day_year\"].map(str) + extract_data[\"day_month_name_year\"].map(str) + extract_data[\"month_name_day_year\"].map(str) + extract_data[\"month_name_year\"].map(str) + extract_data[\"month_year\"].map(str) + extract_data[\"year\"].map(str)\n",
    "\n",
    "    # convert type column to datetime contains multiple format\n",
    "    extract_data[\"date\"] = pd.to_datetime(extract_data[\"date\"], format=\"mixed\")\n",
    "\n",
    "    # extract_data[\"date\"].to_csv(\"dates.csv\", index=False)\n",
    "\n",
    "    order_data = extract_data[\"date\"].copy()\n",
    "\n",
    "    # kind = stable\n",
    "    # 19 405 1973-03-01\n",
    "    # 20 323 1973-03-01\n",
    "    # two line above is the same value, but index 323 should above 405 for true\n",
    "    # 19 323 1973-03-01\n",
    "    # 20 405 1973-03-01\n",
    "    order_data = order_data.sort_values(kind=\"stable\").index.values\n",
    "    \n",
    "    return pd.Series(order_data)\n",
    "\n",
    "date_sorter()\n",
    "    "
   ]
  }
 ],
 "metadata": {
  "kernelspec": {
   "display_name": "Python 3 (ipykernel)",
   "language": "python",
   "name": "python3"
  },
  "language_info": {
   "codemirror_mode": {
    "name": "ipython",
    "version": 3
   },
   "file_extension": ".py",
   "mimetype": "text/x-python",
   "name": "python",
   "nbconvert_exporter": "python",
   "pygments_lexer": "ipython3",
   "version": "3.10.10"
  }
 },
 "nbformat": 4,
 "nbformat_minor": 4
}
