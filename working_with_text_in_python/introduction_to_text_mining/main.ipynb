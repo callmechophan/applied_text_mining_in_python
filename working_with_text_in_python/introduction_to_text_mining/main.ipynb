{
 "cells": [
  {
   "cell_type": "code",
   "execution_count": null,
   "metadata": {},
   "outputs": [],
   "source": [
    "# can be done with text\n",
    "# - parse text\n",
    "# - find/identify/extract relevant information from text\n",
    "# - classify text documents\n",
    "# - search for relevant text documents\n",
    "# - sentiment analysis\n",
    "# - topic model\n",
    "# - ..."
   ]
  }
 ],
 "metadata": {
  "language_info": {
   "name": "python"
  }
 },
 "nbformat": 4,
 "nbformat_minor": 2
}
